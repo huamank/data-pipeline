{
 "cells": [
  {
   "cell_type": "code",
   "execution_count": 2,
   "metadata": {},
   "outputs": [],
   "source": [
    "import pandas as pd\n",
    "from sqlalchemy import create_engine\n",
    "import logging\n",
    "import sys\n",
    "DATABASE_CONFIG = {\n",
    "    'host': 'localhost',\n",
    "    'port': 3310,\n",
    "    'user': 'root',\n",
    "    'password': 'root',\n",
    "    'database': 'retail_db'\n",
    "}\n",
    "\n",
    "CSV_FILES = {\n",
    "    'customers': '../data/customers.csv',\n",
    "    'departments': '../data/departments.csv',\n",
    "    'categories': '../data/categories.csv',\n",
    "    'products': '../data/products.csv',\n",
    "    'orders': '../data/orders.csv',\n",
    "    'order_items': '../data/order_items.csv',\n",
    "}\n",
    "\n",
    "LOG_FILE = 'logs/pipeline.log'"
   ]
  },
  {
   "cell_type": "code",
   "execution_count": 1,
   "metadata": {},
   "outputs": [],
   "source": [
    "def create_db_engine(DATABASE_CONFIG):\n",
    "    \"\"\"\n",
    "    Crear una conexion .....\n",
    "    \"\"\"\n",
    "\n",
    "    try:\n",
    "        engine = create_engine(\n",
    "            f\"mysql+mysqlconnector://{DATABASE_CONFIG['user']}:{DATABASE_CONFIG['password']}@{DATABASE_CONFIG['host']}:{DATABASE_CONFIG['port']}/{DATABASE_CONFIG['database']}\"\n",
    "        )\n",
    "        return engine\n",
    "    except:\n",
    "        print(\"Error en la conexion\")\n"
   ]
  },
  {
   "cell_type": "code",
   "execution_count": 3,
   "metadata": {},
   "outputs": [],
   "source": [
    "def read_csv(file_path):\n",
    "    \"\"\" \"\"\"\n",
    "    try:\n",
    "        df = pd.read_csv(file_path)\n",
    "        return df\n",
    "    except:\n",
    "        print(\"Error al leer el archivo\")"
   ]
  },
  {
   "cell_type": "code",
   "execution_count": 4,
   "metadata": {},
   "outputs": [],
   "source": [
    "df_customers = read_csv(CSV_FILES['customers'])"
   ]
  },
  {
   "cell_type": "code",
   "execution_count": 19,
   "metadata": {},
   "outputs": [],
   "source": [
    "df_categories = read_csv(CSV_FILES['categories'])\n"
   ]
  },
  {
   "cell_type": "code",
   "execution_count": 6,
   "metadata": {},
   "outputs": [],
   "source": [
    "df_departments= read_csv(CSV_FILES['departments'])\n",
    "df_orders= read_csv(CSV_FILES['orders'])\n",
    "df_products= read_csv(CSV_FILES['products'])\n",
    "df_order_items= read_csv(CSV_FILES['order_items'])\n"
   ]
  },
  {
   "cell_type": "code",
   "execution_count": 7,
   "metadata": {},
   "outputs": [],
   "source": [
    "def transform_customers(df):\n",
    "    \"\"\"\n",
    "    \"\"\"\n",
    "\n",
    "    df['customer_email'] = df['customer_email'].str.lower()\n",
    "\n",
    "    if df[['customer_fname', 'customer_lname', 'customer_email']].isnull().any().any():\n",
    "        print(\"Datos faltantes\")\n",
    "        sys.exit(1)\n",
    "    \n",
    "    return df"
   ]
  },
  {
   "cell_type": "code",
   "execution_count": 8,
   "metadata": {},
   "outputs": [],
   "source": [
    "def transform_departments(df):\n",
    "    \n",
    "    if df['department_name'].duplicated().any():\n",
    "        print(\"Hay departamentos duplicados\")\n",
    "        sys.exit(1)\n",
    "    return df\n",
    "    "
   ]
  },
  {
   "cell_type": "code",
   "execution_count": 9,
   "metadata": {},
   "outputs": [],
   "source": [
    "def transform_categories(df, df_departments):\n",
    "    \"\"\"\n",
    "    \"\"\"\n",
    "    valid_ids = set(df_departments['department_id'])\n",
    "\n",
    "    if not df['category_department_id'].isin(valid_ids).all():\n",
    "        print(\"hay category_department_id que no se encuentran en departments\")\n",
    "        sys.exit(1)\n",
    "    return df"
   ]
  },
  {
   "cell_type": "code",
   "execution_count": 10,
   "metadata": {},
   "outputs": [],
   "source": [
    "def transform_poducts(df, df_categories):\n",
    "    \"\"\"\n",
    "    \"\"\"\n",
    "    valid_ids = set(df_categories['category_id'])\n",
    "\n",
    "    if not df['product_category_id'].isin(valid_ids).all():\n",
    "        print(\"hay category_department_id que no se encuentran en departments\")\n",
    "        sys.exit(1)\n",
    "    return df"
   ]
  },
  {
   "cell_type": "code",
   "execution_count": 21,
   "metadata": {},
   "outputs": [],
   "source": [
    "def tarnsform_orders(df, df_customers):\n",
    "\n",
    "    df['order_date'] = pd.to_datetime(df['order_date'], errors='coerce')\n",
    "    if df['order_date'].isnull().any():\n",
    "        print(\"Hay valores nulos\")\n",
    "    \n",
    "    valid_ids = set(df_customers['customer_id'])\n",
    "    validate_ids(df, valid_ids, 'order_customer_id')\n",
    "    \n",
    "    return df"
   ]
  },
  {
   "cell_type": "code",
   "execution_count": 12,
   "metadata": {},
   "outputs": [],
   "source": [
    "def transform_order_item(df, df_orders, df_products):\n",
    "    \"\"\"\n",
    "    \"\"\"\n",
    "\n",
    "    calcular_subtotal = df['order_item_quantity'] * df['order_item_product_price']\n",
    "    if not (df['order_item_subtotal'] == calcular_subtotal).all():\n",
    "        print(\"Recalculando order_item_subtotal\")\n",
    "        df['order_item_subtotal'] = calcular_subtotal\n",
    "    \n",
    "    return df"
   ]
  },
  {
   "cell_type": "code",
   "execution_count": 13,
   "metadata": {},
   "outputs": [
    {
     "data": {
      "text/html": [
       "<div>\n",
       "<style scoped>\n",
       "    .dataframe tbody tr th:only-of-type {\n",
       "        vertical-align: middle;\n",
       "    }\n",
       "\n",
       "    .dataframe tbody tr th {\n",
       "        vertical-align: top;\n",
       "    }\n",
       "\n",
       "    .dataframe thead th {\n",
       "        text-align: right;\n",
       "    }\n",
       "</style>\n",
       "<table border=\"1\" class=\"dataframe\">\n",
       "  <thead>\n",
       "    <tr style=\"text-align: right;\">\n",
       "      <th></th>\n",
       "      <th>customer_id</th>\n",
       "      <th>customer_fname</th>\n",
       "      <th>customer_lname</th>\n",
       "      <th>customer_email</th>\n",
       "      <th>customer_password</th>\n",
       "      <th>customer_street</th>\n",
       "      <th>customer_city</th>\n",
       "      <th>customer_state</th>\n",
       "      <th>customer_zipcode</th>\n",
       "    </tr>\n",
       "  </thead>\n",
       "  <tbody>\n",
       "    <tr>\n",
       "      <th>0</th>\n",
       "      <td>1</td>\n",
       "      <td>Richard</td>\n",
       "      <td>Hernandez</td>\n",
       "      <td>XXXXXXXXX</td>\n",
       "      <td>XXXXXXXXX</td>\n",
       "      <td>6303 Heather Plaza</td>\n",
       "      <td>Brownsville</td>\n",
       "      <td>TX</td>\n",
       "      <td>78521</td>\n",
       "    </tr>\n",
       "    <tr>\n",
       "      <th>1</th>\n",
       "      <td>2</td>\n",
       "      <td>Mary</td>\n",
       "      <td>Barrett</td>\n",
       "      <td>XXXXXXXXX</td>\n",
       "      <td>XXXXXXXXX</td>\n",
       "      <td>9526 Noble Embers Ridge</td>\n",
       "      <td>Littleton</td>\n",
       "      <td>CO</td>\n",
       "      <td>80126</td>\n",
       "    </tr>\n",
       "    <tr>\n",
       "      <th>2</th>\n",
       "      <td>3</td>\n",
       "      <td>Ann</td>\n",
       "      <td>Smith</td>\n",
       "      <td>XXXXXXXXX</td>\n",
       "      <td>XXXXXXXXX</td>\n",
       "      <td>3422 Blue Pioneer Bend</td>\n",
       "      <td>Caguas</td>\n",
       "      <td>PR</td>\n",
       "      <td>725</td>\n",
       "    </tr>\n",
       "    <tr>\n",
       "      <th>3</th>\n",
       "      <td>4</td>\n",
       "      <td>Mary</td>\n",
       "      <td>Jones</td>\n",
       "      <td>XXXXXXXXX</td>\n",
       "      <td>XXXXXXXXX</td>\n",
       "      <td>8324 Little Common</td>\n",
       "      <td>San Marcos</td>\n",
       "      <td>CA</td>\n",
       "      <td>92069</td>\n",
       "    </tr>\n",
       "    <tr>\n",
       "      <th>4</th>\n",
       "      <td>5</td>\n",
       "      <td>Robert</td>\n",
       "      <td>Hudson</td>\n",
       "      <td>XXXXXXXXX</td>\n",
       "      <td>XXXXXXXXX</td>\n",
       "      <td>10 Crystal River Mall</td>\n",
       "      <td>Caguas</td>\n",
       "      <td>PR</td>\n",
       "      <td>725</td>\n",
       "    </tr>\n",
       "  </tbody>\n",
       "</table>\n",
       "</div>"
      ],
      "text/plain": [
       "   customer_id customer_fname customer_lname customer_email customer_password  \\\n",
       "0            1        Richard      Hernandez      XXXXXXXXX         XXXXXXXXX   \n",
       "1            2           Mary        Barrett      XXXXXXXXX         XXXXXXXXX   \n",
       "2            3            Ann          Smith      XXXXXXXXX         XXXXXXXXX   \n",
       "3            4           Mary          Jones      XXXXXXXXX         XXXXXXXXX   \n",
       "4            5         Robert         Hudson      XXXXXXXXX         XXXXXXXXX   \n",
       "\n",
       "           customer_street customer_city customer_state  customer_zipcode  \n",
       "0       6303 Heather Plaza   Brownsville             TX             78521  \n",
       "1  9526 Noble Embers Ridge     Littleton             CO             80126  \n",
       "2   3422 Blue Pioneer Bend        Caguas             PR               725  \n",
       "3       8324 Little Common    San Marcos             CA             92069  \n",
       "4   10 Crystal River Mall         Caguas             PR               725  "
      ]
     },
     "execution_count": 13,
     "metadata": {},
     "output_type": "execute_result"
    }
   ],
   "source": [
    "df_customers.head()"
   ]
  },
  {
   "cell_type": "code",
   "execution_count": 14,
   "metadata": {},
   "outputs": [],
   "source": [
    "def load_data(engine, table_name, df):\n",
    "    df.to_sql(name=table_name, con=engine, if_exists='append', index=False)\n",
    "    print(\"Carga exitosa\")"
   ]
  },
  {
   "cell_type": "code",
   "execution_count": 15,
   "metadata": {},
   "outputs": [
    {
     "name": "stdout",
     "output_type": "stream",
     "text": [
      "Carga exitosa\n"
     ]
    }
   ],
   "source": [
    "engine = create_db_engine(DATABASE_CONFIG)\n",
    "table_name = 'customers'\n",
    "\n",
    "load_data(engine, table_name, df_customers)"
   ]
  },
  {
   "cell_type": "code",
   "execution_count": 17,
   "metadata": {},
   "outputs": [],
   "source": [
    "def transform_categories(df, df_departments):\n",
    "    \"\"\"\n",
    "    \"\"\"\n",
    "    valid_ids = set(df_departments['department_id'])\n",
    "\n",
    "    validate_ids(df, valid_ids, 'category_department_id' )\n",
    "    return df\n",
    "\n",
    "def validate_ids(df, valid_ids, col):\n",
    "    \"\"\"\n",
    "    \"\"\"\n",
    "    if not df[col].isin(valid_ids).all():\n",
    "        print(f\"hay {col} que no se encuentran en el otro dataframe\")\n",
    "        sys.exit(1)\n",
    "\n",
    "\n"
   ]
  },
  {
   "cell_type": "code",
   "execution_count": 20,
   "metadata": {},
   "outputs": [
    {
     "name": "stdout",
     "output_type": "stream",
     "text": [
      "hay category_department_id que no se encuentran en el otro dataframe\n"
     ]
    },
    {
     "ename": "SystemExit",
     "evalue": "1",
     "output_type": "error",
     "traceback": [
      "An exception has occurred, use %tb to see the full traceback.\n",
      "\u001b[0;31mSystemExit\u001b[0m\u001b[0;31m:\u001b[0m 1\n"
     ]
    },
    {
     "name": "stderr",
     "output_type": "stream",
     "text": [
      "/home/codespace/.local/lib/python3.12/site-packages/IPython/core/interactiveshell.py:3585: UserWarning: To exit: use 'exit', 'quit', or Ctrl-D.\n",
      "  warn(\"To exit: use 'exit', 'quit', or Ctrl-D.\", stacklevel=1)\n"
     ]
    }
   ],
   "source": [
    "transform_categories(df_categories, df_departments)"
   ]
  },
  {
   "cell_type": "code",
   "execution_count": 22,
   "metadata": {},
   "outputs": [
    {
     "name": "stdout",
     "output_type": "stream",
     "text": [
      "hay order_customer_id que no se encuentran en el otro dataframe\n"
     ]
    },
    {
     "ename": "SystemExit",
     "evalue": "1",
     "output_type": "error",
     "traceback": [
      "An exception has occurred, use %tb to see the full traceback.\n",
      "\u001b[0;31mSystemExit\u001b[0m\u001b[0;31m:\u001b[0m 1\n"
     ]
    },
    {
     "name": "stderr",
     "output_type": "stream",
     "text": [
      "/home/codespace/.local/lib/python3.12/site-packages/IPython/core/interactiveshell.py:3585: UserWarning: To exit: use 'exit', 'quit', or Ctrl-D.\n",
      "  warn(\"To exit: use 'exit', 'quit', or Ctrl-D.\", stacklevel=1)\n"
     ]
    }
   ],
   "source": [
    "tarnsform_orders(df_orders, df_customers)"
   ]
  },
  {
   "cell_type": "code",
   "execution_count": null,
   "metadata": {},
   "outputs": [],
   "source": []
  }
 ],
 "metadata": {
  "kernelspec": {
   "display_name": "Python 3",
   "language": "python",
   "name": "python3"
  },
  "language_info": {
   "codemirror_mode": {
    "name": "ipython",
    "version": 3
   },
   "file_extension": ".py",
   "mimetype": "text/x-python",
   "name": "python",
   "nbconvert_exporter": "python",
   "pygments_lexer": "ipython3",
   "version": "3.12.1"
  }
 },
 "nbformat": 4,
 "nbformat_minor": 2
}
